{
 "cells": [
  {
   "cell_type": "code",
   "execution_count": null,
   "outputs": [],
   "source": [
    "import os, sys\n",
    "if 'google.colab' in sys.modules:\n",
    "    %cd /content\n",
    "    if not os.path.isdir('MPyDATA'):\n",
    "        !git clone --depth 1 https://github.com/atmos-cloud-sim-uj/MPyDATA.git\n",
    "    %cd MPyDATA\n",
    "    !pip install -r requirements.txt"
   ],
   "metadata": {
    "collapsed": false,
    "pycharm": {
     "name": "#%% by Szymon Drenda\n"
    }
   }
  },
  {
   "cell_type": "code",
   "execution_count": null,
   "metadata": {},
   "outputs": [],
   "source": [
    "import os, sys\n",
    "if 'google.colab' in sys.modules:\n",
    "    %cd /content/MPyDATA/MPyDATA_examples/advection_diffusion_1d\n",
    "sys.path.insert(0, os.path.join(os.getcwd(), '../..'))"
   ]
  },
  {
   "cell_type": "code",
   "execution_count": 1,
   "metadata": {},
   "outputs": [],
   "source": [
    "import numpy as np\n",
    "import sympy as sp\n",
    "import matplotlib.pyplot as plt\n",
    "import shutil\n",
    "from MPyDATA import Factories\n",
    "from MPyDATA.options import Options\n",
    "from MPyDATA.arakawa_c.boundary_condition.periodic_boundary_condition import PeriodicBoundaryCondition\n",
    "\n",
    "from matplotlib.animation import FuncAnimation\n",
    "from IPython.display import HTML\n",
    "%matplotlib inline\n",
    "#%matplotlib widget"
   ]
  },
  {
   "cell_type": "code",
   "execution_count": 2,
   "metadata": {},
   "outputs": [],
   "source": [
    "#Eq parameters\n",
    "mu = 0.05\n",
    "\n",
    "solution_symbolic = sp.sympify(\"sin(pi*(x-c*t))*exp(-mu*pi**2*t) + 2\", rational=True)\n",
    "u0_symbolic = solution_symbolic.subs({\"t\":0})#sp.sympify(\"sin(pi * x) + 2\", rational=True)\n",
    "\n",
    "#Sim Parameters\n",
    "steps_per_iter = 1\n",
    "opts = Options(n_iters=3, non_zero_mu_coeff=True, infinite_gauge=True, flux_corrected_transport=True)\n",
    "\n",
    "#Plot Parameters\n",
    "r_array = np.arange(1, 7, 2)\n",
    "c_array = np.linspace(0.05, 0.7, 7)"
   ]
  },
  {
   "cell_type": "code",
   "execution_count": 3,
   "metadata": {
    "pycharm": {
     "name": "#%%\n"
    }
   },
   "outputs": [
    {
     "name": "stdout",
     "output_type": "stream",
     "text": [
      "R 1\n",
      "\t 0.05\n",
      "\t 0.15833333333333333\n",
      "\t 0.26666666666666666\n",
      "\t 0.37499999999999994\n",
      "\t 0.4833333333333333\n",
      "\t 0.5916666666666667\n",
      "\t 0.7\n",
      "R 3\n",
      "\t 0.05\n"
     ]
    },
    {
     "ename": "KeyboardInterrupt",
     "evalue": "",
     "output_type": "error",
     "traceback": [
      "\u001B[0;31m---------------------------------------------------------------------------\u001B[0m",
      "\u001B[0;31mKeyboardInterrupt\u001B[0m                         Traceback (most recent call last)",
      "\u001B[0;32m<ipython-input-3-13747978745b>\u001B[0m in \u001B[0;36m<module>\u001B[0;34m\u001B[0m\n\u001B[1;32m     37\u001B[0m         \u001B[0mnumerical_results\u001B[0m \u001B[0;34m=\u001B[0m \u001B[0;34m[\u001B[0m\u001B[0msolver\u001B[0m\u001B[0;34m.\u001B[0m\u001B[0mcurr\u001B[0m\u001B[0;34m.\u001B[0m\u001B[0mget\u001B[0m\u001B[0;34m(\u001B[0m\u001B[0;34m)\u001B[0m\u001B[0;34m.\u001B[0m\u001B[0mcopy\u001B[0m\u001B[0;34m(\u001B[0m\u001B[0;34m)\u001B[0m\u001B[0;34m]\u001B[0m\u001B[0;34m\u001B[0m\u001B[0;34m\u001B[0m\u001B[0m\n\u001B[1;32m     38\u001B[0m         \u001B[0;32mfor\u001B[0m \u001B[0mi\u001B[0m \u001B[0;32min\u001B[0m \u001B[0mrange\u001B[0m\u001B[0;34m(\u001B[0m\u001B[0mnt\u001B[0m\u001B[0;34m)\u001B[0m\u001B[0;34m:\u001B[0m\u001B[0;34m\u001B[0m\u001B[0;34m\u001B[0m\u001B[0m\n\u001B[0;32m---> 39\u001B[0;31m             \u001B[0msolver\u001B[0m\u001B[0;34m.\u001B[0m\u001B[0madvance\u001B[0m\u001B[0;34m(\u001B[0m\u001B[0msteps_per_iter\u001B[0m\u001B[0;34m,\u001B[0m \u001B[0mmu_coeff\u001B[0m\u001B[0;34m=\u001B[0m\u001B[0mmu\u001B[0m\u001B[0;34m)\u001B[0m\u001B[0;34m\u001B[0m\u001B[0;34m\u001B[0m\u001B[0m\n\u001B[0m\u001B[1;32m     40\u001B[0m             \u001B[0mnumerical_results\u001B[0m\u001B[0;34m.\u001B[0m\u001B[0mappend\u001B[0m\u001B[0;34m(\u001B[0m\u001B[0msolver\u001B[0m\u001B[0;34m.\u001B[0m\u001B[0mcurr\u001B[0m\u001B[0;34m.\u001B[0m\u001B[0mget\u001B[0m\u001B[0;34m(\u001B[0m\u001B[0;34m)\u001B[0m\u001B[0;34m.\u001B[0m\u001B[0mcopy\u001B[0m\u001B[0;34m(\u001B[0m\u001B[0;34m)\u001B[0m\u001B[0;34m)\u001B[0m\u001B[0;34m\u001B[0m\u001B[0;34m\u001B[0m\u001B[0m\n\u001B[1;32m     41\u001B[0m \u001B[0;34m\u001B[0m\u001B[0m\n",
      "\u001B[0;32m~/devel/MPyDATA/MPyDATA/solver.py\u001B[0m in \u001B[0;36madvance\u001B[0;34m(self, nt, mu_coeff)\u001B[0m\n\u001B[1;32m     40\u001B[0m \u001B[0;34m\u001B[0m\u001B[0m\n\u001B[1;32m     41\u001B[0m     \u001B[0;32mdef\u001B[0m \u001B[0madvance\u001B[0m\u001B[0;34m(\u001B[0m\u001B[0mself\u001B[0m\u001B[0;34m,\u001B[0m \u001B[0mnt\u001B[0m\u001B[0;34m:\u001B[0m \u001B[0mint\u001B[0m\u001B[0;34m,\u001B[0m \u001B[0mmu_coeff\u001B[0m\u001B[0;34m:\u001B[0m \u001B[0mfloat\u001B[0m \u001B[0;34m=\u001B[0m \u001B[0;36m0\u001B[0m\u001B[0;34m)\u001B[0m\u001B[0;34m:\u001B[0m\u001B[0;34m\u001B[0m\u001B[0;34m\u001B[0m\u001B[0m\n\u001B[0;32m---> 42\u001B[0;31m         wall_time_per_timestep = self.stepper(nt, mu_coeff,\n\u001B[0m\u001B[1;32m     43\u001B[0m                      \u001B[0;34m*\u001B[0m\u001B[0mself\u001B[0m\u001B[0;34m.\u001B[0m\u001B[0mcurr\u001B[0m\u001B[0;34m.\u001B[0m\u001B[0mimpl\u001B[0m\u001B[0;34m,\u001B[0m\u001B[0;34m\u001B[0m\u001B[0;34m\u001B[0m\u001B[0m\n\u001B[1;32m     44\u001B[0m                      \u001B[0;34m*\u001B[0m\u001B[0mself\u001B[0m\u001B[0;34m.\u001B[0m\u001B[0mGC_phys\u001B[0m\u001B[0;34m.\u001B[0m\u001B[0mimpl\u001B[0m\u001B[0;34m,\u001B[0m\u001B[0;34m\u001B[0m\u001B[0;34m\u001B[0m\u001B[0m\n",
      "\u001B[0;32m~/devel/MPyDATA/MPyDATA/stepper.py\u001B[0m in \u001B[0;36m__call__\u001B[0;34m(self, nt, mu_coeff, psi, psi_bc, GC_phys, GC_phys_bc, g_factor, g_factor_bc, vectmp_a, vectmp_a_bc, vectmp_b, vectmp_b_bc, vectmp_c, vectmp_c_bc, psi_min, psi_min_bc, psi_max, psi_max_bc, beta_up, beta_up_bc, beta_down, beta_down_bc)\u001B[0m\n\u001B[1;32m     65\u001B[0m              beta_down, beta_down_bc):\n\u001B[1;32m     66\u001B[0m         \u001B[0;32massert\u001B[0m \u001B[0mself\u001B[0m\u001B[0;34m.\u001B[0m\u001B[0mn_threads\u001B[0m \u001B[0;34m==\u001B[0m \u001B[0;36m1\u001B[0m \u001B[0;32mor\u001B[0m \u001B[0mnumba\u001B[0m\u001B[0;34m.\u001B[0m\u001B[0mget_num_threads\u001B[0m\u001B[0;34m(\u001B[0m\u001B[0;34m)\u001B[0m \u001B[0;34m==\u001B[0m \u001B[0mself\u001B[0m\u001B[0;34m.\u001B[0m\u001B[0mn_threads\u001B[0m\u001B[0;34m\u001B[0m\u001B[0;34m\u001B[0m\u001B[0m\n\u001B[0;32m---> 67\u001B[0;31m         return self.__call(nt, mu_coeff,\n\u001B[0m\u001B[1;32m     68\u001B[0m              \u001B[0mpsi\u001B[0m\u001B[0;34m,\u001B[0m \u001B[0mpsi_bc\u001B[0m\u001B[0;34m,\u001B[0m\u001B[0;34m\u001B[0m\u001B[0;34m\u001B[0m\u001B[0m\n\u001B[1;32m     69\u001B[0m              \u001B[0mGC_phys\u001B[0m\u001B[0;34m,\u001B[0m \u001B[0mGC_phys_bc\u001B[0m\u001B[0;34m,\u001B[0m\u001B[0;34m\u001B[0m\u001B[0;34m\u001B[0m\u001B[0m\n",
      "\u001B[0;32m~/devel/MPyDATA/venv/lib/python3.8/site-packages/numba/core/dispatcher.py\u001B[0m in \u001B[0;36mtypeof_pyval\u001B[0;34m(self, val)\u001B[0m\n\u001B[1;32m    622\u001B[0m         \u001B[0;31m# can save a couple µs.\u001B[0m\u001B[0;34m\u001B[0m\u001B[0;34m\u001B[0m\u001B[0;34m\u001B[0m\u001B[0m\n\u001B[1;32m    623\u001B[0m         \u001B[0;32mtry\u001B[0m\u001B[0;34m:\u001B[0m\u001B[0;34m\u001B[0m\u001B[0;34m\u001B[0m\u001B[0m\n\u001B[0;32m--> 624\u001B[0;31m             \u001B[0mtp\u001B[0m \u001B[0;34m=\u001B[0m \u001B[0mtypeof\u001B[0m\u001B[0;34m(\u001B[0m\u001B[0mval\u001B[0m\u001B[0;34m,\u001B[0m \u001B[0mPurpose\u001B[0m\u001B[0;34m.\u001B[0m\u001B[0margument\u001B[0m\u001B[0;34m)\u001B[0m\u001B[0;34m\u001B[0m\u001B[0;34m\u001B[0m\u001B[0m\n\u001B[0m\u001B[1;32m    625\u001B[0m         \u001B[0;32mexcept\u001B[0m \u001B[0mValueError\u001B[0m\u001B[0;34m:\u001B[0m\u001B[0;34m\u001B[0m\u001B[0;34m\u001B[0m\u001B[0m\n\u001B[1;32m    626\u001B[0m             \u001B[0mtp\u001B[0m \u001B[0;34m=\u001B[0m \u001B[0mtypes\u001B[0m\u001B[0;34m.\u001B[0m\u001B[0mpyobject\u001B[0m\u001B[0;34m\u001B[0m\u001B[0;34m\u001B[0m\u001B[0m\n",
      "\u001B[0;32m~/devel/MPyDATA/venv/lib/python3.8/site-packages/numba/core/typing/typeof.py\u001B[0m in \u001B[0;36mtypeof\u001B[0;34m(val, purpose)\u001B[0m\n\u001B[1;32m     27\u001B[0m     \u001B[0;31m# Note the behaviour for Purpose.argument must match _typeof.c.\u001B[0m\u001B[0;34m\u001B[0m\u001B[0;34m\u001B[0m\u001B[0;34m\u001B[0m\u001B[0m\n\u001B[1;32m     28\u001B[0m     \u001B[0mc\u001B[0m \u001B[0;34m=\u001B[0m \u001B[0m_TypeofContext\u001B[0m\u001B[0;34m(\u001B[0m\u001B[0mpurpose\u001B[0m\u001B[0;34m)\u001B[0m\u001B[0;34m\u001B[0m\u001B[0;34m\u001B[0m\u001B[0m\n\u001B[0;32m---> 29\u001B[0;31m     \u001B[0mty\u001B[0m \u001B[0;34m=\u001B[0m \u001B[0mtypeof_impl\u001B[0m\u001B[0;34m(\u001B[0m\u001B[0mval\u001B[0m\u001B[0;34m,\u001B[0m \u001B[0mc\u001B[0m\u001B[0;34m)\u001B[0m\u001B[0;34m\u001B[0m\u001B[0;34m\u001B[0m\u001B[0m\n\u001B[0m\u001B[1;32m     30\u001B[0m     \u001B[0;32mif\u001B[0m \u001B[0mty\u001B[0m \u001B[0;32mis\u001B[0m \u001B[0;32mNone\u001B[0m\u001B[0;34m:\u001B[0m\u001B[0;34m\u001B[0m\u001B[0;34m\u001B[0m\u001B[0m\n\u001B[1;32m     31\u001B[0m         msg = _termcolor.errmsg(\n",
      "\u001B[0;32m/usr/lib/python3.8/functools.py\u001B[0m in \u001B[0;36mwrapper\u001B[0;34m(*args, **kw)\u001B[0m\n\u001B[1;32m    872\u001B[0m                             '1 positional argument')\n\u001B[1;32m    873\u001B[0m \u001B[0;34m\u001B[0m\u001B[0m\n\u001B[0;32m--> 874\u001B[0;31m         \u001B[0;32mreturn\u001B[0m \u001B[0mdispatch\u001B[0m\u001B[0;34m(\u001B[0m\u001B[0margs\u001B[0m\u001B[0;34m[\u001B[0m\u001B[0;36m0\u001B[0m\u001B[0;34m]\u001B[0m\u001B[0;34m.\u001B[0m\u001B[0m__class__\u001B[0m\u001B[0;34m)\u001B[0m\u001B[0;34m(\u001B[0m\u001B[0;34m*\u001B[0m\u001B[0margs\u001B[0m\u001B[0;34m,\u001B[0m \u001B[0;34m**\u001B[0m\u001B[0mkw\u001B[0m\u001B[0;34m)\u001B[0m\u001B[0;34m\u001B[0m\u001B[0;34m\u001B[0m\u001B[0m\n\u001B[0m\u001B[1;32m    875\u001B[0m \u001B[0;34m\u001B[0m\u001B[0m\n\u001B[1;32m    876\u001B[0m     \u001B[0mfuncname\u001B[0m \u001B[0;34m=\u001B[0m \u001B[0mgetattr\u001B[0m\u001B[0;34m(\u001B[0m\u001B[0mfunc\u001B[0m\u001B[0;34m,\u001B[0m \u001B[0;34m'__name__'\u001B[0m\u001B[0;34m,\u001B[0m \u001B[0;34m'singledispatch function'\u001B[0m\u001B[0;34m)\u001B[0m\u001B[0;34m\u001B[0m\u001B[0;34m\u001B[0m\u001B[0m\n",
      "\u001B[0;32m~/devel/MPyDATA/venv/lib/python3.8/site-packages/numba/core/typing/typeof.py\u001B[0m in \u001B[0;36m_typeof_tuple\u001B[0;34m(val, c)\u001B[0m\n\u001B[1;32m    158\u001B[0m     \u001B[0;32mif\u001B[0m \u001B[0many\u001B[0m\u001B[0;34m(\u001B[0m\u001B[0mty\u001B[0m \u001B[0;32mis\u001B[0m \u001B[0;32mNone\u001B[0m \u001B[0;32mfor\u001B[0m \u001B[0mty\u001B[0m \u001B[0;32min\u001B[0m \u001B[0mtys\u001B[0m\u001B[0;34m)\u001B[0m\u001B[0;34m:\u001B[0m\u001B[0;34m\u001B[0m\u001B[0;34m\u001B[0m\u001B[0m\n\u001B[1;32m    159\u001B[0m         \u001B[0;32mreturn\u001B[0m\u001B[0;34m\u001B[0m\u001B[0;34m\u001B[0m\u001B[0m\n\u001B[0;32m--> 160\u001B[0;31m     \u001B[0;32mreturn\u001B[0m \u001B[0mtypes\u001B[0m\u001B[0;34m.\u001B[0m\u001B[0mBaseTuple\u001B[0m\u001B[0;34m.\u001B[0m\u001B[0mfrom_types\u001B[0m\u001B[0;34m(\u001B[0m\u001B[0mtys\u001B[0m\u001B[0;34m,\u001B[0m \u001B[0mtype\u001B[0m\u001B[0;34m(\u001B[0m\u001B[0mval\u001B[0m\u001B[0;34m)\u001B[0m\u001B[0;34m)\u001B[0m\u001B[0;34m\u001B[0m\u001B[0;34m\u001B[0m\u001B[0m\n\u001B[0m\u001B[1;32m    161\u001B[0m \u001B[0;34m\u001B[0m\u001B[0m\n\u001B[1;32m    162\u001B[0m \u001B[0;34m@\u001B[0m\u001B[0mtypeof_impl\u001B[0m\u001B[0;34m.\u001B[0m\u001B[0mregister\u001B[0m\u001B[0;34m(\u001B[0m\u001B[0mlist\u001B[0m\u001B[0;34m)\u001B[0m\u001B[0;34m\u001B[0m\u001B[0;34m\u001B[0m\u001B[0m\n",
      "\u001B[0;32m~/devel/MPyDATA/venv/lib/python3.8/site-packages/numba/core/types/containers.py\u001B[0m in \u001B[0;36mfrom_types\u001B[0;34m(cls, tys, pyclass)\u001B[0m\n\u001B[1;32m    144\u001B[0m                 \u001B[0;32mreturn\u001B[0m \u001B[0mcls\u001B[0m\u001B[0;34m.\u001B[0m\u001B[0m_make_homogeneous_tuple\u001B[0m\u001B[0;34m(\u001B[0m\u001B[0mtys\u001B[0m\u001B[0;34m[\u001B[0m\u001B[0;36m0\u001B[0m\u001B[0;34m]\u001B[0m\u001B[0;34m,\u001B[0m \u001B[0mlen\u001B[0m\u001B[0;34m(\u001B[0m\u001B[0mtys\u001B[0m\u001B[0;34m)\u001B[0m\u001B[0;34m)\u001B[0m\u001B[0;34m\u001B[0m\u001B[0;34m\u001B[0m\u001B[0m\n\u001B[1;32m    145\u001B[0m             \u001B[0;32melse\u001B[0m\u001B[0;34m:\u001B[0m\u001B[0;34m\u001B[0m\u001B[0;34m\u001B[0m\u001B[0m\n\u001B[0;32m--> 146\u001B[0;31m                 \u001B[0;32mreturn\u001B[0m \u001B[0mcls\u001B[0m\u001B[0;34m.\u001B[0m\u001B[0m_make_heterogeneous_tuple\u001B[0m\u001B[0;34m(\u001B[0m\u001B[0mtys\u001B[0m\u001B[0;34m)\u001B[0m\u001B[0;34m\u001B[0m\u001B[0;34m\u001B[0m\u001B[0m\n\u001B[0m\u001B[1;32m    147\u001B[0m \u001B[0;34m\u001B[0m\u001B[0m\n\u001B[1;32m    148\u001B[0m     \u001B[0;34m@\u001B[0m\u001B[0mclassmethod\u001B[0m\u001B[0;34m\u001B[0m\u001B[0;34m\u001B[0m\u001B[0m\n",
      "\u001B[0;32m~/devel/MPyDATA/venv/lib/python3.8/site-packages/numba/core/types/containers.py\u001B[0m in \u001B[0;36m_make_heterogeneous_tuple\u001B[0;34m(cls, tys)\u001B[0m\n\u001B[1;32m    152\u001B[0m     \u001B[0;34m@\u001B[0m\u001B[0mclassmethod\u001B[0m\u001B[0;34m\u001B[0m\u001B[0;34m\u001B[0m\u001B[0m\n\u001B[1;32m    153\u001B[0m     \u001B[0;32mdef\u001B[0m \u001B[0m_make_heterogeneous_tuple\u001B[0m\u001B[0;34m(\u001B[0m\u001B[0mcls\u001B[0m\u001B[0;34m,\u001B[0m \u001B[0mtys\u001B[0m\u001B[0;34m)\u001B[0m\u001B[0;34m:\u001B[0m\u001B[0;34m\u001B[0m\u001B[0;34m\u001B[0m\u001B[0m\n\u001B[0;32m--> 154\u001B[0;31m         \u001B[0;32mreturn\u001B[0m \u001B[0mTuple\u001B[0m\u001B[0;34m(\u001B[0m\u001B[0mtys\u001B[0m\u001B[0;34m)\u001B[0m\u001B[0;34m\u001B[0m\u001B[0;34m\u001B[0m\u001B[0m\n\u001B[0m\u001B[1;32m    155\u001B[0m \u001B[0;34m\u001B[0m\u001B[0m\n\u001B[1;32m    156\u001B[0m \u001B[0;34m\u001B[0m\u001B[0m\n",
      "\u001B[0;32m~/devel/MPyDATA/venv/lib/python3.8/site-packages/numba/core/types/abstract.py\u001B[0m in \u001B[0;36m__call__\u001B[0;34m(cls, *args, **kwargs)\u001B[0m\n\u001B[1;32m     63\u001B[0m         \u001B[0mthe\u001B[0m \u001B[0mnew\u001B[0m \u001B[0minstance\u001B[0m \u001B[0;32mis\u001B[0m \u001B[0mreturned\u001B[0m\u001B[0;34m.\u001B[0m\u001B[0;34m\u001B[0m\u001B[0;34m\u001B[0m\u001B[0m\n\u001B[1;32m     64\u001B[0m         \"\"\"\n\u001B[0;32m---> 65\u001B[0;31m         \u001B[0minst\u001B[0m \u001B[0;34m=\u001B[0m \u001B[0mtype\u001B[0m\u001B[0;34m.\u001B[0m\u001B[0m__call__\u001B[0m\u001B[0;34m(\u001B[0m\u001B[0mcls\u001B[0m\u001B[0;34m,\u001B[0m \u001B[0;34m*\u001B[0m\u001B[0margs\u001B[0m\u001B[0;34m,\u001B[0m \u001B[0;34m**\u001B[0m\u001B[0mkwargs\u001B[0m\u001B[0;34m)\u001B[0m\u001B[0;34m\u001B[0m\u001B[0;34m\u001B[0m\u001B[0m\n\u001B[0m\u001B[1;32m     66\u001B[0m         \u001B[0;32mreturn\u001B[0m \u001B[0mcls\u001B[0m\u001B[0;34m.\u001B[0m\u001B[0m_intern\u001B[0m\u001B[0;34m(\u001B[0m\u001B[0minst\u001B[0m\u001B[0;34m)\u001B[0m\u001B[0;34m\u001B[0m\u001B[0;34m\u001B[0m\u001B[0m\n\u001B[1;32m     67\u001B[0m \u001B[0;34m\u001B[0m\u001B[0m\n",
      "\u001B[0;32m~/devel/MPyDATA/venv/lib/python3.8/site-packages/numba/core/types/containers.py\u001B[0m in \u001B[0;36m__new__\u001B[0;34m(cls, types)\u001B[0m\n\u001B[1;32m    278\u001B[0m     \u001B[0;32mdef\u001B[0m \u001B[0m__new__\u001B[0m\u001B[0;34m(\u001B[0m\u001B[0mcls\u001B[0m\u001B[0;34m,\u001B[0m \u001B[0mtypes\u001B[0m\u001B[0;34m)\u001B[0m\u001B[0;34m:\u001B[0m\u001B[0;34m\u001B[0m\u001B[0;34m\u001B[0m\u001B[0m\n\u001B[1;32m    279\u001B[0m \u001B[0;34m\u001B[0m\u001B[0m\n\u001B[0;32m--> 280\u001B[0;31m         \u001B[0mt\u001B[0m \u001B[0;34m=\u001B[0m \u001B[0mutils\u001B[0m\u001B[0;34m.\u001B[0m\u001B[0munified_function_type\u001B[0m\u001B[0;34m(\u001B[0m\u001B[0mtypes\u001B[0m\u001B[0;34m,\u001B[0m \u001B[0mrequire_precise\u001B[0m\u001B[0;34m=\u001B[0m\u001B[0;32mTrue\u001B[0m\u001B[0;34m)\u001B[0m\u001B[0;34m\u001B[0m\u001B[0;34m\u001B[0m\u001B[0m\n\u001B[0m\u001B[1;32m    281\u001B[0m         \u001B[0;32mif\u001B[0m \u001B[0mt\u001B[0m \u001B[0;32mis\u001B[0m \u001B[0;32mnot\u001B[0m \u001B[0;32mNone\u001B[0m\u001B[0;34m:\u001B[0m\u001B[0;34m\u001B[0m\u001B[0;34m\u001B[0m\u001B[0m\n\u001B[1;32m    282\u001B[0m             \u001B[0;32mreturn\u001B[0m \u001B[0mUniTuple\u001B[0m\u001B[0;34m(\u001B[0m\u001B[0mdtype\u001B[0m\u001B[0;34m=\u001B[0m\u001B[0mt\u001B[0m\u001B[0;34m,\u001B[0m \u001B[0mcount\u001B[0m\u001B[0;34m=\u001B[0m\u001B[0mlen\u001B[0m\u001B[0;34m(\u001B[0m\u001B[0mtypes\u001B[0m\u001B[0;34m)\u001B[0m\u001B[0;34m)\u001B[0m\u001B[0;34m\u001B[0m\u001B[0;34m\u001B[0m\u001B[0m\n",
      "\u001B[0;32m~/devel/MPyDATA/venv/lib/python3.8/site-packages/numba/core/utils.py\u001B[0m in \u001B[0;36munified_function_type\u001B[0;34m(numba_types, require_precise)\u001B[0m\n\u001B[1;32m    516\u001B[0m     \u001B[0;32mfor\u001B[0m \u001B[0mt\u001B[0m \u001B[0;32min\u001B[0m \u001B[0mnumba_types\u001B[0m\u001B[0;34m:\u001B[0m\u001B[0;34m\u001B[0m\u001B[0;34m\u001B[0m\u001B[0m\n\u001B[1;32m    517\u001B[0m         \u001B[0;32mif\u001B[0m \u001B[0misinstance\u001B[0m\u001B[0;34m(\u001B[0m\u001B[0mt\u001B[0m\u001B[0;34m,\u001B[0m \u001B[0mtypes\u001B[0m\u001B[0;34m.\u001B[0m\u001B[0mDispatcher\u001B[0m\u001B[0;34m)\u001B[0m\u001B[0;34m:\u001B[0m\u001B[0;34m\u001B[0m\u001B[0;34m\u001B[0m\u001B[0m\n\u001B[0;32m--> 518\u001B[0;31m             \u001B[0mmnargs1\u001B[0m\u001B[0;34m,\u001B[0m \u001B[0mmxargs1\u001B[0m \u001B[0;34m=\u001B[0m \u001B[0mget_nargs_range\u001B[0m\u001B[0;34m(\u001B[0m\u001B[0mt\u001B[0m\u001B[0;34m.\u001B[0m\u001B[0mdispatcher\u001B[0m\u001B[0;34m.\u001B[0m\u001B[0mpy_func\u001B[0m\u001B[0;34m)\u001B[0m\u001B[0;34m\u001B[0m\u001B[0;34m\u001B[0m\u001B[0m\n\u001B[0m\u001B[1;32m    519\u001B[0m             \u001B[0;32mif\u001B[0m \u001B[0mmnargs\u001B[0m \u001B[0;32mis\u001B[0m \u001B[0;32mNone\u001B[0m\u001B[0;34m:\u001B[0m\u001B[0;34m\u001B[0m\u001B[0;34m\u001B[0m\u001B[0m\n\u001B[1;32m    520\u001B[0m                 \u001B[0mmnargs\u001B[0m\u001B[0;34m,\u001B[0m \u001B[0mmxargs\u001B[0m \u001B[0;34m=\u001B[0m \u001B[0mmnargs1\u001B[0m\u001B[0;34m,\u001B[0m \u001B[0mmxargs1\u001B[0m\u001B[0;34m\u001B[0m\u001B[0;34m\u001B[0m\u001B[0m\n",
      "\u001B[0;32m~/devel/MPyDATA/venv/lib/python3.8/site-packages/numba/core/utils.py\u001B[0m in \u001B[0;36mget_nargs_range\u001B[0;34m(pyfunc)\u001B[0m\n\u001B[1;32m    443\u001B[0m     \u001B[0mpositional\u001B[0m \u001B[0marguments\u001B[0m\u001B[0;34m.\u001B[0m\u001B[0;34m\u001B[0m\u001B[0;34m\u001B[0m\u001B[0m\n\u001B[1;32m    444\u001B[0m     \"\"\"\n\u001B[0;32m--> 445\u001B[0;31m     \u001B[0msig\u001B[0m \u001B[0;34m=\u001B[0m \u001B[0mpysignature\u001B[0m\u001B[0;34m(\u001B[0m\u001B[0mpyfunc\u001B[0m\u001B[0;34m)\u001B[0m\u001B[0;34m\u001B[0m\u001B[0;34m\u001B[0m\u001B[0m\n\u001B[0m\u001B[1;32m    446\u001B[0m     \u001B[0mmin_nargs\u001B[0m \u001B[0;34m=\u001B[0m \u001B[0;36m0\u001B[0m\u001B[0;34m\u001B[0m\u001B[0;34m\u001B[0m\u001B[0m\n\u001B[1;32m    447\u001B[0m     \u001B[0mmax_nargs\u001B[0m \u001B[0;34m=\u001B[0m \u001B[0;36m0\u001B[0m\u001B[0;34m\u001B[0m\u001B[0;34m\u001B[0m\u001B[0m\n",
      "\u001B[0;32m/usr/lib/python3.8/inspect.py\u001B[0m in \u001B[0;36msignature\u001B[0;34m(obj, follow_wrapped)\u001B[0m\n\u001B[1;32m   3091\u001B[0m \u001B[0;32mdef\u001B[0m \u001B[0msignature\u001B[0m\u001B[0;34m(\u001B[0m\u001B[0mobj\u001B[0m\u001B[0;34m,\u001B[0m \u001B[0;34m*\u001B[0m\u001B[0;34m,\u001B[0m \u001B[0mfollow_wrapped\u001B[0m\u001B[0;34m=\u001B[0m\u001B[0;32mTrue\u001B[0m\u001B[0;34m)\u001B[0m\u001B[0;34m:\u001B[0m\u001B[0;34m\u001B[0m\u001B[0;34m\u001B[0m\u001B[0m\n\u001B[1;32m   3092\u001B[0m     \u001B[0;34m\"\"\"Get a signature object for the passed callable.\"\"\"\u001B[0m\u001B[0;34m\u001B[0m\u001B[0;34m\u001B[0m\u001B[0m\n\u001B[0;32m-> 3093\u001B[0;31m     \u001B[0;32mreturn\u001B[0m \u001B[0mSignature\u001B[0m\u001B[0;34m.\u001B[0m\u001B[0mfrom_callable\u001B[0m\u001B[0;34m(\u001B[0m\u001B[0mobj\u001B[0m\u001B[0;34m,\u001B[0m \u001B[0mfollow_wrapped\u001B[0m\u001B[0;34m=\u001B[0m\u001B[0mfollow_wrapped\u001B[0m\u001B[0;34m)\u001B[0m\u001B[0;34m\u001B[0m\u001B[0;34m\u001B[0m\u001B[0m\n\u001B[0m\u001B[1;32m   3094\u001B[0m \u001B[0;34m\u001B[0m\u001B[0m\n\u001B[1;32m   3095\u001B[0m \u001B[0;34m\u001B[0m\u001B[0m\n",
      "\u001B[0;32m/usr/lib/python3.8/inspect.py\u001B[0m in \u001B[0;36mfrom_callable\u001B[0;34m(cls, obj, follow_wrapped)\u001B[0m\n\u001B[1;32m   2840\u001B[0m     \u001B[0;32mdef\u001B[0m \u001B[0mfrom_callable\u001B[0m\u001B[0;34m(\u001B[0m\u001B[0mcls\u001B[0m\u001B[0;34m,\u001B[0m \u001B[0mobj\u001B[0m\u001B[0;34m,\u001B[0m \u001B[0;34m*\u001B[0m\u001B[0;34m,\u001B[0m \u001B[0mfollow_wrapped\u001B[0m\u001B[0;34m=\u001B[0m\u001B[0;32mTrue\u001B[0m\u001B[0;34m)\u001B[0m\u001B[0;34m:\u001B[0m\u001B[0;34m\u001B[0m\u001B[0;34m\u001B[0m\u001B[0m\n\u001B[1;32m   2841\u001B[0m         \u001B[0;34m\"\"\"Constructs Signature for the given callable object.\"\"\"\u001B[0m\u001B[0;34m\u001B[0m\u001B[0;34m\u001B[0m\u001B[0m\n\u001B[0;32m-> 2842\u001B[0;31m         return _signature_from_callable(obj, sigcls=cls,\n\u001B[0m\u001B[1;32m   2843\u001B[0m                                         follow_wrapper_chains=follow_wrapped)\n\u001B[1;32m   2844\u001B[0m \u001B[0;34m\u001B[0m\u001B[0m\n",
      "\u001B[0;32m/usr/lib/python3.8/inspect.py\u001B[0m in \u001B[0;36m_signature_from_callable\u001B[0;34m(obj, follow_wrapper_chains, skip_bound_arg, sigcls)\u001B[0m\n\u001B[1;32m   2290\u001B[0m         \u001B[0;31m# If it's a pure Python function, or an object that is duck type\u001B[0m\u001B[0;34m\u001B[0m\u001B[0;34m\u001B[0m\u001B[0;34m\u001B[0m\u001B[0m\n\u001B[1;32m   2291\u001B[0m         \u001B[0;31m# of a Python function (Cython functions, for instance), then:\u001B[0m\u001B[0;34m\u001B[0m\u001B[0;34m\u001B[0m\u001B[0;34m\u001B[0m\u001B[0m\n\u001B[0;32m-> 2292\u001B[0;31m         return _signature_from_function(sigcls, obj,\n\u001B[0m\u001B[1;32m   2293\u001B[0m                                         skip_bound_arg=skip_bound_arg)\n\u001B[1;32m   2294\u001B[0m \u001B[0;34m\u001B[0m\u001B[0m\n",
      "\u001B[0;32m/usr/lib/python3.8/inspect.py\u001B[0m in \u001B[0;36m_signature_from_function\u001B[0;34m(cls, func, skip_bound_arg)\u001B[0m\n\u001B[1;32m   2154\u001B[0m         \u001B[0mkind\u001B[0m \u001B[0;34m=\u001B[0m \u001B[0m_POSITIONAL_ONLY\u001B[0m \u001B[0;32mif\u001B[0m \u001B[0mposonly_left\u001B[0m \u001B[0;32melse\u001B[0m \u001B[0m_POSITIONAL_OR_KEYWORD\u001B[0m\u001B[0;34m\u001B[0m\u001B[0;34m\u001B[0m\u001B[0m\n\u001B[1;32m   2155\u001B[0m         \u001B[0mannotation\u001B[0m \u001B[0;34m=\u001B[0m \u001B[0mannotations\u001B[0m\u001B[0;34m.\u001B[0m\u001B[0mget\u001B[0m\u001B[0;34m(\u001B[0m\u001B[0mname\u001B[0m\u001B[0;34m,\u001B[0m \u001B[0m_empty\u001B[0m\u001B[0;34m)\u001B[0m\u001B[0;34m\u001B[0m\u001B[0;34m\u001B[0m\u001B[0m\n\u001B[0;32m-> 2156\u001B[0;31m         parameters.append(Parameter(name, annotation=annotation,\n\u001B[0m\u001B[1;32m   2157\u001B[0m                                     kind=kind))\n\u001B[1;32m   2158\u001B[0m         \u001B[0;32mif\u001B[0m \u001B[0mposonly_left\u001B[0m\u001B[0;34m:\u001B[0m\u001B[0;34m\u001B[0m\u001B[0;34m\u001B[0m\u001B[0m\n",
      "\u001B[0;32m/usr/lib/python3.8/inspect.py\u001B[0m in \u001B[0;36m__init__\u001B[0;34m(self, name, kind, default, annotation)\u001B[0m\n\u001B[1;32m   2477\u001B[0m     \u001B[0;32mdef\u001B[0m \u001B[0m__init__\u001B[0m\u001B[0;34m(\u001B[0m\u001B[0mself\u001B[0m\u001B[0;34m,\u001B[0m \u001B[0mname\u001B[0m\u001B[0;34m,\u001B[0m \u001B[0mkind\u001B[0m\u001B[0;34m,\u001B[0m \u001B[0;34m*\u001B[0m\u001B[0;34m,\u001B[0m \u001B[0mdefault\u001B[0m\u001B[0;34m=\u001B[0m\u001B[0m_empty\u001B[0m\u001B[0;34m,\u001B[0m \u001B[0mannotation\u001B[0m\u001B[0;34m=\u001B[0m\u001B[0m_empty\u001B[0m\u001B[0;34m)\u001B[0m\u001B[0;34m:\u001B[0m\u001B[0;34m\u001B[0m\u001B[0;34m\u001B[0m\u001B[0m\n\u001B[1;32m   2478\u001B[0m         \u001B[0;32mtry\u001B[0m\u001B[0;34m:\u001B[0m\u001B[0;34m\u001B[0m\u001B[0;34m\u001B[0m\u001B[0m\n\u001B[0;32m-> 2479\u001B[0;31m             \u001B[0mself\u001B[0m\u001B[0;34m.\u001B[0m\u001B[0m_kind\u001B[0m \u001B[0;34m=\u001B[0m \u001B[0m_ParameterKind\u001B[0m\u001B[0;34m(\u001B[0m\u001B[0mkind\u001B[0m\u001B[0;34m)\u001B[0m\u001B[0;34m\u001B[0m\u001B[0;34m\u001B[0m\u001B[0m\n\u001B[0m\u001B[1;32m   2480\u001B[0m         \u001B[0;32mexcept\u001B[0m \u001B[0mValueError\u001B[0m\u001B[0;34m:\u001B[0m\u001B[0;34m\u001B[0m\u001B[0;34m\u001B[0m\u001B[0m\n\u001B[1;32m   2481\u001B[0m             \u001B[0;32mraise\u001B[0m \u001B[0mValueError\u001B[0m\u001B[0;34m(\u001B[0m\u001B[0;34mf'value {kind!r} is not a valid Parameter.kind'\u001B[0m\u001B[0;34m)\u001B[0m\u001B[0;34m\u001B[0m\u001B[0;34m\u001B[0m\u001B[0m\n",
      "\u001B[0;32m/usr/lib/python3.8/enum.py\u001B[0m in \u001B[0;36m__call__\u001B[0;34m(cls, value, names, module, qualname, type, start)\u001B[0m\n\u001B[1;32m    276\u001B[0m         \u001B[0;32mreturn\u001B[0m \u001B[0;32mTrue\u001B[0m\u001B[0;34m\u001B[0m\u001B[0;34m\u001B[0m\u001B[0m\n\u001B[1;32m    277\u001B[0m \u001B[0;34m\u001B[0m\u001B[0m\n\u001B[0;32m--> 278\u001B[0;31m     \u001B[0;32mdef\u001B[0m \u001B[0m__call__\u001B[0m\u001B[0;34m(\u001B[0m\u001B[0mcls\u001B[0m\u001B[0;34m,\u001B[0m \u001B[0mvalue\u001B[0m\u001B[0;34m,\u001B[0m \u001B[0mnames\u001B[0m\u001B[0;34m=\u001B[0m\u001B[0;32mNone\u001B[0m\u001B[0;34m,\u001B[0m \u001B[0;34m*\u001B[0m\u001B[0;34m,\u001B[0m \u001B[0mmodule\u001B[0m\u001B[0;34m=\u001B[0m\u001B[0;32mNone\u001B[0m\u001B[0;34m,\u001B[0m \u001B[0mqualname\u001B[0m\u001B[0;34m=\u001B[0m\u001B[0;32mNone\u001B[0m\u001B[0;34m,\u001B[0m \u001B[0mtype\u001B[0m\u001B[0;34m=\u001B[0m\u001B[0;32mNone\u001B[0m\u001B[0;34m,\u001B[0m \u001B[0mstart\u001B[0m\u001B[0;34m=\u001B[0m\u001B[0;36m1\u001B[0m\u001B[0;34m)\u001B[0m\u001B[0;34m:\u001B[0m\u001B[0;34m\u001B[0m\u001B[0;34m\u001B[0m\u001B[0m\n\u001B[0m\u001B[1;32m    279\u001B[0m         \"\"\"Either returns an existing member, or creates a new enum class.\n\u001B[1;32m    280\u001B[0m \u001B[0;34m\u001B[0m\u001B[0m\n",
      "\u001B[0;31mKeyboardInterrupt\u001B[0m: "
     ]
    }
   ],
   "source": [
    "results = {}\n",
    "domains = {}\n",
    "solutions = {}\n",
    "max_error = {}\n",
    "\n",
    "for r in r_array:\n",
    "    print(f\"R {r}\")\n",
    "    nx = 16 * 2**r\n",
    "\n",
    "    domain_symbolic = [-1+sp.Rational(2*i, nx) for i in range(nx)]\n",
    "    domain = np.array(domain_symbolic, dtype=np.float)\n",
    "    u0 = np.array([u0_symbolic.subs(\"x\", x) for x in domain_symbolic], dtype=np.float)\n",
    "\n",
    "    solver = Factories.advection_diffusion_1d(\n",
    "        options=opts,\n",
    "        advectee=u0,\n",
    "        advector=0,\n",
    "        boundary_conditions=(PeriodicBoundaryCondition(),)\n",
    "    )\n",
    "\n",
    "    for C in c_array:\n",
    "        print(\"\\t\", C)\n",
    "\n",
    "        #Params\n",
    "        dx = 2 / nx\n",
    "        phys_c = 2 * C / nx\n",
    "        phys_mu = mu * dx**2\n",
    "        nt = int(4 / C / dx)\n",
    "\n",
    "        solution = solution_symbolic.subs({\"c\" : phys_c, \"mu\" : phys_mu})\n",
    "        #display(solution)\n",
    "\n",
    "        ###SIM\n",
    "        solver.advector.data[0][:] = C\n",
    "        solver.advectee.get()[:] = u0\n",
    "\n",
    "        numerical_results = [solver.advectee.get().copy()]\n",
    "        for i in range(nt):\n",
    "            solver.advance(steps_per_iter, mu_coeff=(mu,))\n",
    "            numerical_results.append(solver.advectee.get().copy())\n",
    "\n",
    "        numerical_results = np.array(numerical_results)\n",
    "        key = (r, C)\n",
    "        results[key] = numerical_results\n",
    "        domains[key] = domain\n",
    "        solutions[key] = solution\n",
    "        \n",
    "        ###ERR\n",
    "        u = sp.lambdify(\"x,t\", solution)\n",
    "        steps = np.arange(nt + 1, dtype=np.int).reshape(-1, 1) * steps_per_iter\n",
    "        error = np.sqrt(np.sum((u(domain, steps) - numerical_results)**2, axis=1)/nx)\n",
    "        max_idx = np.argmax(error)\n",
    "        max_error[key] = error[max_idx]\n"
   ]
  },
  {
   "cell_type": "code",
   "execution_count": null,
   "metadata": {
    "pycharm": {
     "name": "#%%\n"
    }
   },
   "outputs": [],
   "source": [
    "theta_array = c_array * np.pi/2\n",
    "\n",
    "X, Y = np.meshgrid(theta_array, r_array)\n",
    "Z = np.array(list(max_error.values())).reshape(len(r_array), len(theta_array))\n",
    "Z = np.log2(Z)\n",
    "Z[Z>0] = 0\n",
    "\n",
    "ax = plt.subplot(111, projection='polar')\n",
    "\n",
    "cnt = ax.contourf(X, Y, Z)\n",
    "legend = plt.colorbar(cnt, ax=ax, pad=0.1)\n",
    "\n",
    "\n",
    "ax.set_rlim(0, max(r_array)+1)\n",
    "ax.set_thetalim(0, np.pi/2)\n",
    "ax.set_rticks(range(0, max(r_array)+1))\n",
    "ax.set_rlabel_position(-22.5)\n",
    "theta_ticks = np.linspace(0, 90, 11)\n",
    "ax.set_thetagrids(theta_ticks, theta_ticks/90)\n",
    "ax.grid(True)\n",
    "\n",
    "ax.set_title(\"Error log vs R and C\", va='bottom')\n",
    "plt.show()"
   ]
  },
  {
   "cell_type": "code",
   "execution_count": null,
   "outputs": [],
   "source": [
    "key = (1,.05)\n",
    "numerical_result = results[key]\n",
    "domain = domains[key]\n",
    "u = sp.lambdify(\"x,t\", solutions[key])\n",
    "\n",
    "\n",
    "fig = plt.figure(figsize=(9, 6))\n",
    "ax = fig.add_subplot(121)\n",
    "ax.set_title(\"Numerical and analytical solution\", pad = 20)\n",
    "#ax = fig.add_axes([0, 0, 1, 1], frameon=False)\n",
    "ax.set_xlim(-1, 1)\n",
    "ax.set_ylim(1, 3)\n",
    "line, = ax.step(domain, numerical_result[0], where='mid')\n",
    "line2, = ax.plot(domain, u(domain, 0))\n",
    "ax = fig.add_subplot(122)\n",
    "ax.set_title(\"Difference between analytical and numerical solution\", pad = 20)\n",
    "line3, = ax.plot(domain, u(domain, 0) - numerical_result[0])\n",
    "ax.set_ylim(-.1, .1)\n",
    "ax.set_xlim( -1, 1)\n",
    "\n",
    "interval = 25 #ms\n",
    "frame_list = np.arange(len(numerical_result), dtype=np.int)\n",
    "\n",
    "def update(frame_num):\n",
    "    line.set_ydata(numerical_result[frame_num])\n",
    "    line2.set_ydata(u(domain, frame_num * steps_per_iter))\n",
    "    line3.set_ydata(u(domain, frame_num * steps_per_iter) - numerical_result[frame_num])\n",
    "    return line, line2, line3\n",
    "\n",
    "animation = FuncAnimation(fig, update, frames=frame_list, interval=interval, blit=True)\n",
    "fig.show()"
   ],
   "metadata": {
    "collapsed": false,
    "pycharm": {
     "name": "#%%\n"
    }
   }
  },
  {
   "cell_type": "code",
   "execution_count": null,
   "outputs": [],
   "source": [
    "if shutil.which('ffmpeg') is not None: HTML(animation.to_html5_video())"
   ],
   "metadata": {
    "collapsed": false,
    "pycharm": {
     "name": "#%%\n"
    }
   }
  },
  {
   "cell_type": "code",
   "execution_count": null,
   "metadata": {},
   "outputs": [],
   "source": []
  }
 ],
 "metadata": {
  "kernelspec": {
   "display_name": "Python 3",
   "language": "python",
   "name": "python3"
  },
  "language_info": {
   "codemirror_mode": {
    "name": "ipython",
    "version": 3
   },
   "file_extension": ".py",
   "mimetype": "text/x-python",
   "name": "python",
   "nbconvert_exporter": "python",
   "pygments_lexer": "ipython3",
   "version": "3.8.2"
  }
 },
 "nbformat": 4,
 "nbformat_minor": 1
}
